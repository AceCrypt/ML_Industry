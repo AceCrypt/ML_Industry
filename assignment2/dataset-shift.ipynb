{
 "cells": [
  {
   "cell_type": "markdown",
   "id": "286495c6",
   "metadata": {},
   "source": [
    "# Dataset shift\n",
    "\n",
    "**Background**\n",
    "\n",
    "In the previous assignment you have worked with wafer map data from a semiconductor manufacturing process, and developed a calibrated binary classifier for identifying whether a finished wafer contains a known pattern of faulty chips.\n",
    "\n",
    "Imagine the company has evaluated several classifiers and deployed one of them in production, as part of a larger system for identifying the root causes of faulty chips. The root cause analysis relies on the expertise of human operators. When the root cause of faulty chips on a wafer can be identified, the process parameters can be adjusted, reducing the number of faulty chips and increasing wafer yield.\n",
    "\n",
    "Ideally, the company would like all wafers to be analyzed by the operators, however, their capacity is limited. Therefore, the classifier is used as part of a filtering stage to select wafers for further analysis by the operators, based on whether the wafers contain a known pattern of faulty chips.\n",
    "\n",
    "One month after deploying the classifier, the company observes degrading wafer yield. They think it is due to a drop in classification performance of the classifier: misclassifying wafers that are suitable for further analysis will prevent the operators from identifying the root causes of faulty chips and adapting the process parameters, resulting in more faults and lower yield. They suspect it may be related to a recent change of a process parameter at one of the manufacturing stages.\n",
    "\n",
    "**Assignment**\n",
    "\n",
    "You are given three datasets:\n",
    "- a labeled *training* set that represents the data used to train the classifier,\n",
    "- a partially labeled *production* set representing the data collected after the model was deployed in production.\n",
    "- an unlabeled *leaderboard* set representing the data collected after the *production* set.\n",
    "\n",
    "All datasets are based on the WM-811K dataset containing annotated wafer maps collected from real-world fabrication (see `./data/readme.txt`).\n",
    "\n",
    "You are also given the implementation of the deployed classifier.\n",
    "\n",
    "Your task is to check if a distribution shift may have caused the deployed classifier to drop in predictive performance, and to improve the predictive performance of the classifier.\n",
    "\n",
    "Throughout this notebook you will find cells starting with `# // BEGIN_TODO` and `# // END_TODO` tags.\n",
    "\n",
    "- Fill in all your code between these `# // BEGIN_TODO` and `# // END_TODO` tags.\n",
    "- Do not edit these tags in any way, or else your answers may not be processed by the grading system.\n",
    "- You can add as many code and text cells as you want between the `# // BEGIN_TODO` and `# // END_TODO` tags to make your code nicely readable.\n",
    "- You are free to use any libraries listed in the Hints section on Canvas, but make sure you import all your libraries between the `# // BEGIN_TODO` and `# // END_TODO` tags.\n",
    "\n",
    "You are encouraged to play with the data and extend this notebook in order to obtain your answers. You may insert cells at any point in the notebook, but remember:\n",
    "<br/><br/>\n",
    "<div style=\"padding: 15px; border: 1px solid transparent; border-color: transparent; margin-bottom: 20px; border-radius: 4px; color: #a94442; background-color: #f2dede; border-color: #ebccd1;\n",
    "\">\n",
    "Only the code in your answer cells (i.e. between `# // BEGIN_TODO` and `# // END_TODO`) will be extracted and evaluated.\n",
    "</div>\n",
    "\n",
    "<div style=\"padding: 15px; border: 1px solid transparent; border-color: transparent; margin-bottom: 20px; border-radius: 4px; color: #a94442; background-color: #f2dede; border-color: #ebccd1;\n",
    "\">\n",
    "Before delivering your notebook, make sure that the cells in your notebook can be executed in sequence without errors, by executing \"Restart & Run All\" from the \"Kernel\" menu.\n",
    "</div>\n",
    "\n",
    "Let's get started by filling in your details in the following answer cell. Assign your group number, your names and student ids to variables `group_number`, `name_student1`, `id_student1`, `name_student2`, `id_student2`, e.g.:\n",
    "\n",
    "```\n",
    "# // BEGIN_TODO [AUTHOR]\n",
    "group_number = 7\n",
    "name_student1 = \"John Smith\"\n",
    "id_student1 = \"1234567\"\n",
    "name_student2 = \"Jane Miller\"\n",
    "id_student2 = \"7654321\"\n",
    "# // END_TODO [AUTHOR]\n",
    "```"
   ]
  },
  {
   "cell_type": "code",
   "execution_count": 1,
   "id": "dfd5121d",
   "metadata": {},
   "outputs": [],
   "source": [
    "#// BEGIN_TODO [AUTHOR]\n",
    "group_number = 24\n",
    "name_student1 = \"Mert Gursu Gokcen\"\n",
    "id_student1 = \"1924850\"\n",
    "name_student2 = \"Devansh Mishra\"\n",
    "id_student2 = \"1932551\"\n",
    "#// END_TODO [AUTHOR]"
   ]
  },
  {
   "cell_type": "markdown",
   "id": "f5849978",
   "metadata": {},
   "source": [
    "## Import libraries\n",
    "\n",
    "You are free to use any libraries listed in the Hints section on Canvas, but make sure you import all your libraries between the `# // BEGIN_TODO` and `# // END_TODO` tags below."
   ]
  },
  {
   "cell_type": "code",
   "execution_count": 2,
   "id": "3514b63e",
   "metadata": {},
   "outputs": [
    {
     "name": "stdout",
     "output_type": "stream",
     "text": [
      "Intel MKL WARNING: Support of Intel(R) Streaming SIMD Extensions 4.2 (Intel(R) SSE4.2) enabled only processors has been deprecated. Intel oneAPI Math Kernel Library 2025.0 will require Intel(R) Advanced Vector Extensions (Intel(R) AVX) instructions.\n",
      "Intel MKL WARNING: Support of Intel(R) Streaming SIMD Extensions 4.2 (Intel(R) SSE4.2) enabled only processors has been deprecated. Intel oneAPI Math Kernel Library 2025.0 will require Intel(R) Advanced Vector Extensions (Intel(R) AVX) instructions.\n"
     ]
    }
   ],
   "source": [
    "import pandas as pd\n",
    "import numpy as np\n",
    "import matplotlib.pyplot as plt\n",
    "import pickle, json\n",
    "\n",
    "import random\n",
    "random.seed(42)\n",
    "np.random.seed(42)"
   ]
  },
  {
   "cell_type": "markdown",
   "id": "91b7c08a",
   "metadata": {},
   "source": [
    "## Load the data\n",
    "\n",
    "The training data, that was used to train the classifier before deployment, resides in the `./data/wafer_training.pkl` pickle file."
   ]
  },
  {
   "cell_type": "code",
   "execution_count": 3,
   "id": "621ad3a6",
   "metadata": {
    "ExecuteTime": {
     "end_time": "2022-10-01T20:02:24.232831Z",
     "start_time": "2022-10-01T20:02:24.116407Z"
    }
   },
   "outputs": [],
   "source": [
    "with open('./data/wafer_training.pkl', 'rb') as f:\n",
    "    X_train, y_train = pickle.load(f)"
   ]
  },
  {
   "cell_type": "markdown",
   "id": "a75531fc",
   "metadata": {},
   "source": [
    "`X_train` contains the wafer maps and `y_train` contains the labels. The maps are 26x26 pixels, a pixel of value 0 represents the background, a pixel of value 1 indicates a good chip, and a pixel of value 2 indicates a bad chip. An example of a wafer map is shown below."
   ]
  },
  {
   "cell_type": "code",
   "execution_count": 4,
   "id": "20f2abd3",
   "metadata": {},
   "outputs": [
    {
     "data": {
      "image/png": "[encoded data removed]",
      "text/plain": [
       "<Figure size 200x200 with 1 Axes>"
      ]
     },
     "metadata": {},
     "output_type": "display_data"
    }
   ],
   "source": [
    "fig, axes = plt.subplots(1, figsize = (2,2))\n",
    "plt.imshow(X_train[0]);"
   ]
  },
  {
   "cell_type": "markdown",
   "id": "cf66bb86",
   "metadata": {},
   "source": [
    "The production data, that was collected after the classifier was deployed in production, resides in the `./data/wafer_production.pkl` pickle file."
   ]
  },
  {
   "cell_type": "code",
   "execution_count": 5,
   "id": "f3fc1655",
   "metadata": {},
   "outputs": [],
   "source": [
    "with open('./data/wafer_production.pkl', 'rb') as f:\n",
    "    X_production, y_production = pickle.load(f)"
   ]
  },
  {
   "cell_type": "markdown",
   "id": "add901ea",
   "metadata": {},
   "source": [
    "`X_production` contains the wafer maps and `y_production` contains the labels. The samples are listed in the same order as they were collected.\n",
    "\n",
    "The wafer maps were labeled by human experts according to whether the wafer map contains a known bad chip pattern or not:\n",
    "\n",
    "- 1: a pattern (one of the 8 patterns in the Calibration assignment)\n",
    "- 0: no pattern\n",
    "- -1: unlabeled sample\n",
    "\n",
    "You will observe that `y_production` is only partially labeled, i.e. some samples are unlabeled. You can imagine that labeling is time consuming and expensive process and only a subset was labeled, e.g. for monitoring the performance of the classifier.\n",
    "\n",
    "An example of the wafer map with and without known pattern is shown below."
   ]
  },
  {
   "cell_type": "code",
   "execution_count": 6,
   "id": "837764b4",
   "metadata": {},
   "outputs": [
    {
     "data": {
      "image/png": "[encoded data removed]",
      "text/plain": [
       "<Figure size 600x200 with 2 Axes>"
      ]
     },
     "metadata": {},
     "output_type": "display_data"
    }
   ],
   "source": [
    "unique_classes, class_indexes = np.unique(y_train,return_index=True)\n",
    "class_names = [\"No pattern\", \"Pattern\"]\n",
    "fig, axes = plt.subplots(1,2, figsize = (6,2))\n",
    "for num_index, index in enumerate(class_indexes):\n",
    "    axes[num_index].imshow(X_train[index])\n",
    "    axes[num_index].set_title(class_names[unique_classes[num_index]])\n",
    "    axes[num_index].set_xticks([])\n",
    "    axes[num_index].set_yticks([])"
   ]
  },
  {
   "cell_type": "markdown",
   "id": "7ddb4ba7",
   "metadata": {},
   "source": [
    "## Define the classifier\n",
    "\n",
    "Here is the implementation of the deployed classifier for identifying whether a finished wafer contains a known pattern of faulty chips. It is a random forest classifier, initialized with `random_state=42` for reproducibility."
   ]
  },
  {
   "cell_type": "code",
   "execution_count": 7,
   "id": "9b027045",
   "metadata": {},
   "outputs": [],
   "source": [
    "from sklearn.ensemble import RandomForestClassifier\n",
    "\n",
    "deployed_classifier = RandomForestClassifier(random_state=42)"
   ]
  },
  {
   "cell_type": "markdown",
   "id": "356882ba",
   "metadata": {},
   "source": [
    "## Detect distribution shift\n",
    "\n",
    "The company suspects there is a distribution shift in the `./data/wafer_production.pkl`. Verify this suspicion by identifying at which point in the production a shift (if any) has occured.\n",
    "\n",
    "Assign to the integer variable `distribution_shift_index` the index in the production data where a shift has occured, or `None` if a shift has not occured.\n",
    "\n",
    "Assign a nickname to the string variable `leaderboard_nickname` that will be shown on the leaderboard next to your score. If you do not wat to participate on the leaderboard, set it to `None`."
   ]
  },
  {
   "cell_type": "code",
   "execution_count": 8,
   "id": "b4efca79-6023-478c-bd24-44feeff89ce3",
   "metadata": {},
   "outputs": [
    {
     "name": "stdout",
     "output_type": "stream",
     "text": [
      "Training Data Shape: (4969, 26, 26)\n",
      "Production Data Shape: (10311, 26, 26)\n"
     ]
    }
   ],
   "source": [
    "print(\"Training Data Shape:\", X_train.shape)\n",
    "print(\"Production Data Shape:\", X_production.shape)"
   ]
  },
  {
   "cell_type": "code",
   "execution_count": 9,
   "id": "60443675-1214-4b55-8396-f6f70b6f3d46",
   "metadata": {},
   "outputs": [
    {
     "name": "stdout",
     "output_type": "stream",
     "text": [
      "[0 1]\n",
      "[-1  0  1]\n"
     ]
    }
   ],
   "source": [
    "print(np.unique(y_train))\n",
    "print(np.unique(y_production)) #A new label is introduced!!--> Label schema change"
   ]
  },
  {
   "cell_type": "code",
   "execution_count": 10,
   "id": "575c8e3d-54e3-40a7-96ff-85b4544120a4",
   "metadata": {},
   "outputs": [
    {
     "name": "stdout",
     "output_type": "stream",
     "text": [
      "[0 1] [3497 1472]\n",
      "[-1  0  1] [6874 2404 1033]\n"
     ]
    }
   ],
   "source": [
    "unique_values, counts = np.unique(y_train, return_counts=True)\n",
    "print(unique_values, counts)\n",
    "\n",
    "unique_values_p, counts_p = np.unique(y_production, return_counts=True)\n",
    "print(unique_values_p, counts_p)\n",
    "#IDEA: TO improve, -1 values can be dropped and then predicted and \n",
    "#then used as if they were labeled that way and then check how the model performs"
   ]
  },
  {
   "cell_type": "code",
   "execution_count": 11,
   "id": "a010d37d",
   "metadata": {},
   "outputs": [
    {
     "name": "stdout",
     "output_type": "stream",
     "text": [
      "Production Accuracy: 0.26990592571040634\n",
      "Distribution Shift Index: 0\n"
     ]
    }
   ],
   "source": [
    "#// BEGIN_TODO [SHIFT_DETECTION]\n",
    "from sklearn.metrics import accuracy_score\n",
    "from scipy.stats import ks_2samp\n",
    "\n",
    "X_train_reshaped = X_train.reshape((len(X_train), -1))\n",
    "\n",
    "deployed_classifier.fit(X_train_reshaped, y_train)\n",
    "\n",
    "X_production_reshaped = X_production.reshape((len(X_production), -1))\n",
    "\n",
    "y_production_pred = deployed_classifier.predict(X_production_reshaped)\n",
    "\n",
    "production_accuracy = accuracy_score(y_production, y_production_pred)\n",
    "\n",
    "def detect_distribution_shift(data1, data2):\n",
    "    shifts = []\n",
    "    for i in range(data1.shape[1]):\n",
    "        statistic, p_value = ks_2samp(data1[:, i], data2[:, i])\n",
    "        if statistic > 0.1 and p_value < 0.1e-10:\n",
    "            return i\n",
    "\n",
    "def findLabelSchemaChange(y):\n",
    "    for index, label in enumerate(y):\n",
    "        if label == -1:\n",
    "            return index\n",
    "\n",
    "distribution_shift_index = findLabelSchemaChange(y_production)\n",
    "leaderboard_nickname = \"Group24\"\n",
    "\n",
    "print(\"Production Accuracy:\", production_accuracy)\n",
    "print(\"Distribution Shift Index:\", distribution_shift_index)\n",
    "\n"
   ]
  },
  {
   "cell_type": "code",
   "execution_count": 12,
   "id": "91836af1",
   "metadata": {},
   "outputs": [],
   "source": [
    "#// END_TODO [SHIFT_DETECTION]"
   ]
  },
  {
   "cell_type": "markdown",
   "id": "c732213c",
   "metadata": {},
   "source": [
    "Run the following cell to create a file with your leaderboard submission."
   ]
  },
  {
   "cell_type": "code",
   "execution_count": 13,
   "id": "f79b4d7d",
   "metadata": {},
   "outputs": [],
   "source": [
    "if leaderboard_nickname is not None:\n",
    "    \n",
    "    # perform some sanity checks\n",
    "    assert isinstance(group_number, int), \"group_number is not an integer\"\n",
    "    assert isinstance(leaderboard_nickname, str), \"leaderboard_nickname is not a string\"\n",
    "    assert isinstance(distribution_shift_index, int), \"distribution_shift_index is not an integer\"\n",
    "\n",
    "    # export the solution to a .json file\n",
    "    with open(\"leaderboard_detection.json\", \"w\") as file:\n",
    "        json.dump({\n",
    "            \"group_number\": group_number,\n",
    "            \"leaderboard_nickname\": leaderboard_nickname,\n",
    "            \"distribution_shift_index\": distribution_shift_index\n",
    "        }, file)"
   ]
  },
  {
   "cell_type": "markdown",
   "id": "8ab6ece0",
   "metadata": {},
   "source": [
    "If all went well, a `leaderboard_detection.json` file should have been created in the same directory as this notebook."
   ]
  },
  {
   "cell_type": "markdown",
   "id": "ee2ad8fd",
   "metadata": {},
   "source": [
    "## Improve the predictive perfromance using any classifier\n",
    "\n",
    "Improve the F1 score of identifying whether a wafer contains a known faulty chip pattern or not relative to the `deployed_classifer` trained on the training set: "
   ]
  },
  {
   "cell_type": "code",
   "execution_count": 14,
   "id": "c57db702",
   "metadata": {},
   "outputs": [],
   "source": [
    "deployed_classifier.fit(X_train.reshape(-1, 26*26), y_train);"
   ]
  },
  {
   "cell_type": "markdown",
   "id": "5f7828f3",
   "metadata": {},
   "source": [
    "You are free to use any classifier you like, including the `deployed_classifier`. The performance of the improved classifier will be evaluated on unlabeld data inside `./data/wafer_leaderboard.pkl`."
   ]
  },
  {
   "cell_type": "code",
   "execution_count": 15,
   "id": "ddf511da",
   "metadata": {},
   "outputs": [],
   "source": [
    "with open('./data/wafer_leaderboard.pkl', 'rb') as f:\n",
    "    X_leaderboard = pickle.load(f)"
   ]
  },
  {
   "cell_type": "markdown",
   "id": "d63ea473",
   "metadata": {},
   "source": [
    "Use your improved classifier to you predict the labels for samples in `X_leaderboard`. Assign the predictions to variable `y_improved_classifier`. The variable `y_deployed_classifier` should be an `np.ndarray` with the same number of elements as `X_leaderboard`, and the predicted labels should follow the order corresponding to the samples in `X_leaderboard`.\n",
    "\n",
    "Assign a nickname to the string variable `leaderboard_nickname` that will be shown on the leaderboard next to your score. If you do not wat to participate on the leaderboard, set it to `None`."
   ]
  },
  {
   "cell_type": "code",
   "execution_count": 16,
   "id": "5ddb1c15",
   "metadata": {},
   "outputs": [],
   "source": [
    "#// BEGIN_TODO [PREDICTION]\n",
    "\n",
    "y_improved_classifier = deployed_classifier.predict(X_leaderboard.reshape(-1, 26*26))\n",
    "\n",
    "# ===== =====> Replace this line by your code. <===== ===== #\n"
   ]
  },
  {
   "cell_type": "code",
   "execution_count": 17,
   "id": "4a25860f",
   "metadata": {},
   "outputs": [],
   "source": [
    "#// END_TODO [PREDICTION]"
   ]
  },
  {
   "cell_type": "markdown",
   "id": "3c881830",
   "metadata": {},
   "source": [
    "Run the following cell to create a file with your leaderboard submission."
   ]
  },
  {
   "cell_type": "code",
   "execution_count": 18,
   "id": "88df8a46",
   "metadata": {},
   "outputs": [],
   "source": [
    "if leaderboard_nickname is not None:\n",
    "    \n",
    "    # perform some sanity checks\n",
    "    assert isinstance(group_number, int), \"group_number is not an integer\"\n",
    "    assert isinstance(leaderboard_nickname, str), \"leaderboard_nickname is not a string\"\n",
    "    assert isinstance(y_improved_classifier, np.ndarray), \"y_improved_classifier is not an np.ndarray\"\n",
    "    assert y_improved_classifier.shape[0] == X_leaderboard.shape[0], \"y_improved_classifier has wrong shape\"\n",
    "    assert y_improved_classifier.ndim == 1, \"y_improved_classifier is not an 1d-array\"\n",
    "\n",
    "    # export the solution to a .json file\n",
    "    with open(\"leaderboard_prediction.json\", \"w\") as file:\n",
    "        json.dump({\n",
    "            \"group_number\": group_number,\n",
    "            \"leaderboard_nickname\": leaderboard_nickname,\n",
    "            \"y_improved_classifier\": y_improved_classifier.tolist()\n",
    "        }, file)"
   ]
  },
  {
   "cell_type": "markdown",
   "id": "5263f7b3",
   "metadata": {},
   "source": [
    "If all went well, a `leaderboard_prediction.json` file should have been created in the same directory as this notebook."
   ]
  },
  {
   "cell_type": "markdown",
   "id": "73c1e555",
   "metadata": {},
   "source": [
    "# Feedback\n",
    "\n",
    "Please fill in this questionaire to help us improve this course for the next year. **Your feedback will be anonymized and will not affect your grade in any way!**"
   ]
  },
  {
   "cell_type": "markdown",
   "id": "f4323869",
   "metadata": {},
   "source": [
    "### How many hours did you spend on this assignment?\n",
    "\n",
    "Assign a number to variable `feedback_time`."
   ]
  },
  {
   "cell_type": "code",
   "execution_count": 19,
   "id": "7e209271",
   "metadata": {},
   "outputs": [],
   "source": [
    "#// BEGIN_FEEDBACK [Feedback_1] (0 points)\n",
    "\n",
    "#// END_FEEDBACK [Feedback_1]\n",
    "feedback_time = 5\n",
    "import numbers\n",
    "assert isinstance(feedback_time, numbers.Number), \"Please assign a number to variable feedback_time\""
   ]
  },
  {
   "cell_type": "markdown",
   "id": "92df9e1a",
   "metadata": {},
   "source": [
    "### How difficult did you find this assignment?\n",
    "\n",
    "Assign an integer to variable `feedback_difficulty`, on a scale 0 - 10, with 0 being very easy, 5 being just right, and 10 being very difficult."
   ]
  },
  {
   "cell_type": "code",
   "execution_count": 20,
   "id": "c44da128",
   "metadata": {},
   "outputs": [],
   "source": [
    "#// BEGIN_FEEDBACK [Feedback_2] (0 points)\n",
    "feedback_difficulty = 7\n",
    "#// END_FEEDBACK [Feedback_2]\n",
    "\n",
    "assert isinstance(feedback_difficulty, numbers.Number), \"Please assign a number to variable feedback_difficulty\""
   ]
  },
  {
   "cell_type": "markdown",
   "id": "e3790e84",
   "metadata": {},
   "source": [
    "### Did you use a Large Language Model (LLM) to help you with this and/or the Calibration assignment? If so, how were they useful?\n",
    "\n",
    "We are curious to learn how LLMs are used for study, so that we can adapt what and how we teach.\n",
    "\n",
    "Assign a string to variable `feedback_llm` describing how you used LLMs for solving the assignments (e.g. you can name several useful prompts), and any insights you may like to share. If you did not use an LLM, assign `None` to `feedback_llm`."
   ]
  },
  {
   "cell_type": "code",
   "execution_count": 21,
   "id": "78831b99",
   "metadata": {},
   "outputs": [],
   "source": [
    "#// BEGIN_FEEDBACK [Feedback_3] (0 points)\n",
    "\n",
    "#// END_FEEDBACK [Feedback_3]"
   ]
  },
  {
   "cell_type": "markdown",
   "id": "155f655d",
   "metadata": {},
   "source": [
    "### (Optional) What did you like?\n",
    "\n",
    "Assign a string to variable `feedback_like`."
   ]
  },
  {
   "cell_type": "code",
   "execution_count": 22,
   "id": "ce04ff18",
   "metadata": {},
   "outputs": [],
   "source": [
    "#// BEGIN_FEEDBACK [Feedback_4] (0 points)\n",
    "\n",
    "#// END_FEEDBACK [Feedback_4]"
   ]
  },
  {
   "cell_type": "markdown",
   "id": "e0b74a0b",
   "metadata": {},
   "source": [
    "### (Optional) What can be improved?\n",
    "\n",
    "Assign a string to variable `feedback_improve`. Please be specific, so that we can act on your feedback."
   ]
  },
  {
   "cell_type": "code",
   "execution_count": 23,
   "id": "09c79c04",
   "metadata": {},
   "outputs": [],
   "source": [
    "#// BEGIN_FEEDBACK [Feedback_5] (0 points)\n",
    "\n",
    "#// END_FEEDBACK [Feedback_5]"
   ]
  }
 ],
 "metadata": {
  "hide_input": false,
  "kernelspec": {
   "display_name": "Python 3 (ipykernel)",
   "language": "python",
   "name": "python3"
  },
  "language_info": {
   "codemirror_mode": {
    "name": "ipython",
    "version": 3
   },
   "file_extension": ".py",
   "mimetype": "text/x-python",
   "name": "python",
   "nbconvert_exporter": "python",
   "pygments_lexer": "ipython3",
   "version": "3.10.9"
  },
  "toc": {
   "base_numbering": 1,
   "nav_menu": {},
   "number_sections": false,
   "sideBar": true,
   "skip_h1_title": false,
   "title_cell": "Table of Contents",
   "title_sidebar": "Contents",
   "toc_cell": false,
   "toc_position": {},
   "toc_section_display": true,
   "toc_window_display": true
  },
  "vscode": {
   "interpreter": {
    "hash": "ba20fe46d2481c29bc680d8888619772c67e04db6a826d4628f72709e6371144"
   }
  }
 },
 "nbformat": 4,
 "nbformat_minor": 5
}
